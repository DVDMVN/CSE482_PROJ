{
 "cells": [
  {
   "cell_type": "code",
   "execution_count": 52,
   "id": "e1331774-6276-4125-b10b-517a08f55dfc",
   "metadata": {},
   "outputs": [],
   "source": [
    "import pandas as pd\n",
    "import os\n",
    "import re\n",
    "from textblob import TextBlob\n",
    "import contractions\n",
    "import nltk\n",
    "from nltk.tokenize import word_tokenize\n",
    "from nltk.stem import WordNetLemmatizer\n",
    "from nltk import pos_tag, word_tokenize\n",
    "from nltk.corpus import wordnet, stopwords, words\n",
    "from collections import Counter\n",
    "# from spellchecker import SpellChecker\n",
    "from transformers import AutoTokenizer, AutoModelForSequenceClassification\n",
    "import numpy as np"
   ]
  },
  {
   "cell_type": "code",
   "execution_count": 127,
   "id": "094148a6-d694-4a7c-9b61-41f998019724",
   "metadata": {},
   "outputs": [],
   "source": [
    "#nltk.download('punkt')\n",
    "#nltk.download('averaged_perceptron_tagger')\n",
    "#nltk.download('wordnet')\n",
    "#nltk.download('omw-1.4')\n",
    "# nltk.download('stopwords')\n",
    "#nltk.download('words')"
   ]
  },
  {
   "cell_type": "markdown",
   "id": "d99e64e6-93f2-4983-b37c-2b6cfb159232",
   "metadata": {},
   "source": [
    "### Important Word Set"
   ]
  },
  {
   "cell_type": "code",
   "execution_count": 143,
   "id": "701a59ed-dfde-4d09-bdb8-caa040e4a064",
   "metadata": {},
   "outputs": [
    {
     "name": "stdout",
     "output_type": "stream",
     "text": [
      "['nt', 'ipod', 'software', 'zen', 'dvd', 'mp3', 'problems', 'features', 'players', '3', 'xtra', 'g3', 'pictures', 'christmas', '2', 'dvds', 'flaws', 'songs', 'using']\n"
     ]
    }
   ],
   "source": [
    "STOPWORDS = set(stopwords.words('english'))\n",
    "english_words = set(words.words())\n",
    "\n",
    "\n",
    "def preprocess_text(text):\n",
    "    text = contractions.fix(text)\n",
    "    text = re.sub(r'[^a-zA-Z0-9\\s]', '', text.lower())  \n",
    "    words = text.split()  \n",
    "    words = [word for word in words if word not in STOPWORDS] \n",
    "    return words\n",
    "\n",
    "def filter_non_standard_words(top_words):\n",
    "    non_standard_words = [word for word, _ in top_words if word not in english_words]\n",
    "    return non_standard_words\n",
    "\n",
    "def word_count_in_folder(folder_path, top_k=100):\n",
    "    all_words = []\n",
    "    \n",
    "    for file_name in os.listdir(folder_path):\n",
    "        if file_name.endswith('.csv'):\n",
    "            file_path = os.path.join(folder_path, file_name)\n",
    "            df = pd.read_csv(file_path)\n",
    "            \n",
    "            if 'title' in df.columns and 'sentence' in df.columns:\n",
    "                for _, row in df.iterrows():\n",
    "                    text = row['title'] + \" \" + row['sentence']\n",
    "                    words = preprocess_text(text)\n",
    "                    all_words.extend(words)  \n",
    "\n",
    "    word_counts = Counter(all_words)\n",
    "    top_words = word_counts.most_common(top_k)\n",
    "\n",
    "    non_standard_words = filter_non_standard_words(top_words)\n",
    "    \n",
    "    return non_standard_words\n",
    "\n",
    "folder_path = 'data' \n",
    "file_top_words = word_count_in_folder(folder_path, top_k=100) \n",
    "print(file_top_words)"
   ]
  },
  {
   "cell_type": "markdown",
   "id": "6c9eaa44-daeb-4921-ab7d-e1414af4fe4a",
   "metadata": {},
   "source": [
    "The reason we need to look at the important wordset is because this would let us assess if we should use TextBlob's `correct` function to fix the spellings within the text data. However, we have skipped correcting the spellings because these important words would also get translated and might introduce emotion into the data that did not exist before correction."
   ]
  },
  {
   "cell_type": "markdown",
   "id": "63d88b36-acfb-409f-949a-49a7e77f000a",
   "metadata": {},
   "source": [
    "### Lowercase text data"
   ]
  },
  {
   "cell_type": "code",
   "execution_count": 347,
   "id": "cede3f96-fa90-443f-bab4-efe51664b4a9",
   "metadata": {},
   "outputs": [],
   "source": [
    "def data_preprocessing(df):\n",
    "    \n",
    "    def selective_lowercase(text):\n",
    "        return ' '.join([word if word.isupper() else word.lower() for word in text.split()])\n",
    "    \n",
    "    df['title'] = df['title'].apply(selective_lowercase)\n",
    "    df['sentence'] = df['sentence'].apply(selective_lowercase)\n",
    "\n",
    "    def clean_text(text):\n",
    "        text = contractions.fix(text)\n",
    "        # blob = TextBlob(text)\n",
    "        # expanded_text = str(blob.correct())\n",
    "        text = re.sub(r'\\s+', ' ', text).strip()\n",
    "        text = re.sub(r'[^a-zA-Z0-9\\s!?-]', '', text)\n",
    "        \n",
    "        return text\n",
    "    \n",
    "    df['title'] = df['title'].apply(clean_text)\n",
    "    df['sentence'] = df['sentence'].apply(clean_text)\n",
    "\n",
    "    lemmatizer = WordNetLemmatizer()\n",
    "    \n",
    "    def get_wordnet_pos(nltk_pos):\n",
    "        if nltk_pos.startswith('J'):\n",
    "            return wordnet.ADJ\n",
    "        elif nltk_pos.startswith('V'):\n",
    "            return wordnet.VERB\n",
    "        elif nltk_pos.startswith('N'):\n",
    "            return wordnet.NOUN\n",
    "        elif nltk_pos.startswith('R'):\n",
    "            return wordnet.ADV\n",
    "        else:\n",
    "            return None\n",
    "\n",
    "    def conditional_lemmatize(text):\n",
    "        tokens = word_tokenize(text)\n",
    "        pos_tags = pos_tag(tokens)\n",
    "        lemmatized_text = []\n",
    "        \n",
    "        for token, pos in pos_tags:\n",
    "            wordnet_pos = get_wordnet_pos(pos)\n",
    "            if wordnet_pos in [wordnet.VERB, wordnet.NOUN]: \n",
    "                lemmatized_text.append(lemmatizer.lemmatize(token, pos=wordnet_pos))\n",
    "            else:\n",
    "                lemmatized_text.append(token)\n",
    "        return ' '.join(lemmatized_text)\n",
    "    \n",
    "    df['title'] = df['title'].apply(conditional_lemmatize)\n",
    "    df['sentence'] = df['sentence'].apply(conditional_lemmatize)\n",
    "    \n",
    "    tokenizer = AutoTokenizer.from_pretrained(\"distilbert-base-uncased-finetuned-sst-2-english\")\n",
    "\n",
    "    # NLTK Tokenizer\n",
    "    #df['title'] = df['title'].apply(word_tokenize)\n",
    "    #df['sentence'] = df['sentence'].apply(word_tokenize)\n",
    "    \n",
    "    def tokenize_text(title, sentence):\n",
    "        title_encoding = tokenizer(title, padding='max_length', truncation=True, return_tensors=\"pt\", max_length=128)\n",
    "        sentence_encoding = tokenizer(sentence, padding='max_length', truncation=True, return_tensors=\"pt\", max_length=128)\n",
    "        \n",
    "        return title_encoding['input_ids'].flatten().tolist(), title_encoding['attention_mask'].flatten().tolist(), \\\n",
    "               sentence_encoding['input_ids'].flatten().tolist(), sentence_encoding['attention_mask'].flatten().tolist()\n",
    "    \n",
    "    \n",
    "    df[['title_input_ids', 'title_attention_mask', 'sentence_input_ids', 'sentence_attention_mask']] = df.apply(\n",
    "        lambda row: tokenize_text(row['title'], row['sentence']), axis=1, result_type='expand'\n",
    "    )\n",
    "\n",
    "    return df"
   ]
  },
  {
   "cell_type": "code",
   "execution_count": 349,
   "id": "3658c501-cc91-4c5a-8cfc-d19dbcaa7d68",
   "metadata": {},
   "outputs": [],
   "source": [
    "data = {}\n",
    "for _ in os.listdir():\n",
    "    if _.endswith('.csv'):\n",
    "        df = pd.read_csv('data/'+_)\n",
    "        data[_] = data_preprocessing(df)\n",
    "        data[_].to_csv('processed_data/' + _.replace('.csv', '_updated.csv'))"
   ]
  },
  {
   "cell_type": "code",
   "execution_count": 22,
   "id": "1ebd4348-a1e2-4723-8918-d192e6e335fa",
   "metadata": {},
   "outputs": [],
   "source": [
    "import pandas as pd\n",
    "import ast\n",
    "import torch\n",
    "from torch.utils.data import DataLoader, Dataset, TensorDataset\n",
    "from transformers import BertModel, BertTokenizer, BertForSequenceClassification, AdamW, DistilBertForSequenceClassification, get_scheduler\n",
    "from sklearn.model_selection import train_test_split\n",
    "from sklearn.metrics import accuracy_score, mean_squared_error\n",
    "from tqdm import tqdm\n",
    "import warnings\n",
    "\n",
    "file_path = \"processed_data/apex_ad2600_dvd_player_updated.csv\"\n",
    "data = pd.read_csv(file_path)\n",
    "\n",
    "data_features = data[['sentence_input_ids', 'sentence_attention_mask']]\n",
    "data_target = data['sentiment_total']"
   ]
  },
  {
   "cell_type": "code",
   "execution_count": 24,
   "id": "02a78357-6285-472f-85c6-92ed6a967012",
   "metadata": {},
   "outputs": [],
   "source": [
    "sentence_input_ids = torch.tensor([eval(x) for x in data_features['sentence_input_ids']])\n",
    "sentence_attention_mask = torch.tensor([eval(x) for x in data_features['sentence_attention_mask']])\n",
    "sentiment_score = torch.tensor(data_target.values).float()"
   ]
  },
  {
   "cell_type": "code",
   "execution_count": 25,
   "id": "39145006-e6b8-4bcd-8f31-e51b892681c6",
   "metadata": {},
   "outputs": [],
   "source": [
    "input_ids = sentence_input_ids\n",
    "attention_mask = sentence_attention_mask"
   ]
  },
  {
   "cell_type": "code",
   "execution_count": 28,
   "id": "c8dfad99-59e8-4a45-9b7f-b9040cf74d69",
   "metadata": {},
   "outputs": [],
   "source": [
    "X_train, X_val, mask_train, mask_val, y_train, y_val = train_test_split(\n",
    "    input_ids, attention_mask, sentiment_score, test_size=0.3, random_state=42\n",
    ")"
   ]
  },
  {
   "cell_type": "code",
   "execution_count": 30,
   "id": "9a447644-1d78-4461-9beb-c88506213e50",
   "metadata": {},
   "outputs": [],
   "source": [
    "train_dataset = TensorDataset(X_train, mask_train, y_train)\n",
    "val_dataset = TensorDataset(X_val, mask_val, y_val)\n",
    "\n",
    "train_dataloader = DataLoader(train_dataset, batch_size=16, shuffle=True)\n",
    "val_dataloader = DataLoader(val_dataset, batch_size=16, shuffle=False)\n"
   ]
  },
  {
   "cell_type": "code",
   "execution_count": 40,
   "id": "779240e9-a3a9-4856-ba9b-fca45fbb41b0",
   "metadata": {},
   "outputs": [
    {
     "name": "stderr",
     "output_type": "stream",
     "text": [
      "Some weights of DistilBertForSequenceClassification were not initialized from the model checkpoint at distilbert-base-uncased-finetuned-sst-2-english and are newly initialized because the shapes did not match:\n",
      "- classifier.bias: found shape torch.Size([2]) in the checkpoint and torch.Size([1]) in the model instantiated\n",
      "- classifier.weight: found shape torch.Size([2, 768]) in the checkpoint and torch.Size([1, 768]) in the model instantiated\n",
      "You should probably TRAIN this model on a down-stream task to be able to use it for predictions and inference.\n"
     ]
    }
   ],
   "source": [
    "with warnings.catch_warnings():\n",
    "    warnings.simplefilter(\"ignore\")\n",
    "    model = DistilBertForSequenceClassification.from_pretrained(\n",
    "        \"distilbert-base-uncased-finetuned-sst-2-english\", num_labels=1,\n",
    "        ignore_mismatched_sizes = True \n",
    "    )"
   ]
  },
  {
   "cell_type": "code",
   "execution_count": 42,
   "id": "0ddc2675-ee19-4ac0-a6aa-1945d55ef39c",
   "metadata": {},
   "outputs": [],
   "source": [
    "with warnings.catch_warnings():\n",
    "    warnings.simplefilter(\"ignore\")\n",
    "    optimizer = AdamW(model.parameters(), lr=5e-5)\n",
    "    num_epochs = 3\n",
    "    num_training_steps = len(train_dataloader) * num_epochs\n",
    "    scheduler = get_scheduler(\"linear\", optimizer=optimizer, num_warmup_steps=0, num_training_steps=num_training_steps)"
   ]
  },
  {
   "cell_type": "code",
   "execution_count": 44,
   "id": "d7d31d9b-3f3a-48cc-bf9e-ba2fdcb137eb",
   "metadata": {},
   "outputs": [
    {
     "name": "stdout",
     "output_type": "stream",
     "text": [
      "Epoch 1 completed. Loss: 1.4518495798110962\n",
      "Epoch 2 completed. Loss: 1.1899927854537964\n",
      "Epoch 3 completed. Loss: 0.6835916638374329\n"
     ]
    }
   ],
   "source": [
    "device = torch.device(\"cuda\") if torch.cuda.is_available() else torch.device(\"cpu\")\n",
    "model.to(device)\n",
    "\n",
    "loss_fn = torch.nn.MSELoss()  # For regression tasks\n",
    "\n",
    "for epoch in range(num_epochs):\n",
    "    model.train()\n",
    "    for batch in train_dataloader:\n",
    "        input_ids, attention_mask, labels = [b.to(device) for b in batch]\n",
    "        outputs = model(input_ids=input_ids, attention_mask=attention_mask, labels=labels)\n",
    "        loss = outputs.loss\n",
    "        loss.backward()\n",
    "        optimizer.step()\n",
    "        scheduler.step()\n",
    "        optimizer.zero_grad()\n",
    "    print(f\"Epoch {epoch + 1} completed. Loss: {loss.item()}\")\n"
   ]
  },
  {
   "cell_type": "code",
   "execution_count": 46,
   "id": "0e27f45c-515b-4c66-b652-c2515baed7fa",
   "metadata": {},
   "outputs": [
    {
     "name": "stdout",
     "output_type": "stream",
     "text": [
      "Mean Squared Error: 2.4400529861450195\n"
     ]
    }
   ],
   "source": [
    "model.eval()\n",
    "all_preds, all_labels = [], []\n",
    "\n",
    "with torch.no_grad():\n",
    "    for batch in val_dataloader:\n",
    "        input_ids, attention_mask, labels = [b.to(device) for b in batch]\n",
    "        outputs = model(input_ids=input_ids, attention_mask=attention_mask)\n",
    "        predictions = outputs.logits.squeeze(-1)\n",
    "        all_preds.extend(predictions.cpu().numpy())\n",
    "        all_labels.extend(labels.cpu().numpy())\n",
    "\n",
    "# 8. Compute metrics\n",
    "mse = mean_squared_error(all_labels, all_preds)\n",
    "print(f\"Mean Squared Error: {mse}\")"
   ]
  },
  {
   "cell_type": "code",
   "execution_count": 54,
   "id": "95e296fd-4a22-4aa9-ad49-7e512e82a743",
   "metadata": {},
   "outputs": [],
   "source": [
    "from sklearn.metrics import confusion_matrix, ConfusionMatrixDisplay\n",
    "import matplotlib.pyplot as plt\n",
    "\n",
    "def sign_based_accuracy(y_true, y_pred):\n",
    "    y_true = np.array(y_true)\n",
    "    y_pred = np.array(y_pred)\n",
    "    mask = np.array(y_true) != 0\n",
    "    y_true = np.array(y_true)[mask]\n",
    "    y_pred = np.array(y_pred)[mask]\n",
    "    \n",
    "    y_true_sign = (y_true >0).astype(int)\n",
    "    y_pred_sign = (y_pred >0).astype(int)\n",
    "    correct_signs = (y_true_sign == y_pred_sign).sum()\n",
    "    total = len(y_true_sign)\n",
    "    cm = confusion_matrix(y_true_sign, y_pred_sign)\n",
    "    disp = ConfusionMatrixDisplay(confusion_matrix=cm, display_labels=[0, 1])\n",
    "    disp.plot(cmap=plt.cm.Blues)\n",
    "    plt.show()\n",
    "    return (correct_signs / total) * 100\n"
   ]
  },
  {
   "cell_type": "code",
   "execution_count": 56,
   "id": "d444b90e-3e64-4bfc-afe4-d58ea3153f8d",
   "metadata": {},
   "outputs": [
    {
     "data": {
      "image/png": "[encoded data removed]",
      "text/plain": [
       "<Figure size 640x480 with 2 Axes>"
      ]
     },
     "metadata": {},
     "output_type": "display_data"
    }
   ],
   "source": [
    "accuracy = sign_based_accuracy(all_labels, all_preds)"
   ]
  },
  {
   "cell_type": "code",
   "execution_count": 58,
   "id": "2bceec81-a2ac-4934-a4a6-954014177937",
   "metadata": {},
   "outputs": [
    {
     "data": {
      "text/plain": [
       "92.03539823008849"
      ]
     },
     "execution_count": 58,
     "metadata": {},
     "output_type": "execute_result"
    }
   ],
   "source": [
    "accuracy"
   ]
  },
  {
   "cell_type": "code",
   "execution_count": 136,
   "id": "1b183033-2abf-408f-b799-44456e3ec027",
   "metadata": {},
   "outputs": [],
   "source": [
    "def row_eval(test_row):\n",
    "    test_inputs = torch.tensor(eval(test_row['sentence_input_ids'])).unsqueeze(0)\n",
    "    test_attention = torch.tensor(eval(test_row['sentence_attention_mask'])).unsqueeze(0)\n",
    "    \n",
    "    model.eval()\n",
    "    \n",
    "    with torch.no_grad():\n",
    "        outputs = model(input_ids=test_inputs, attention_mask=test_attention)\n",
    "        logits = outputs.logits\n",
    "    \n",
    "    predicted_sentiment = (logits > 0).int().item()\n",
    "    \n",
    "    label_map = {0:'negative', 1:'positive'}\n",
    "    \n",
    "    print (f\"First 50 letters of the review: \\\"{test_row['sentence'][:50]}\\\", \\nSentiment Score: {test_row['sentiment_total']}\")\n",
    "    print (f\"Predicted Sentiment Score: {int(logits[0][0])}, \\nPositivity of the review: {label_map[predicted_sentiment]}\")"
   ]
  },
  {
   "cell_type": "code",
   "execution_count": 138,
   "id": "873c44b8-a0e2-4a24-9309-901fc4730ea7",
   "metadata": {},
   "outputs": [
    {
     "name": "stdout",
     "output_type": "stream",
     "text": [
      "First 50 letters of the review: \"weakness be minor the feel and layout of the remot\", \n",
      "Sentiment Score: -2\n",
      "Predicted Sentiment Score: -2, \n",
      "Positivity of the review: negative\n"
     ]
    }
   ],
   "source": [
    "test_row = data[data.sentiment_total < 0].iloc[0]\n",
    "row_eval(test_row)"
   ]
  },
  {
   "cell_type": "code",
   "execution_count": 140,
   "id": "0a4f2957-e70c-4164-bfc3-19e6f3754794",
   "metadata": {},
   "outputs": [
    {
     "name": "stdout",
     "output_type": "stream",
     "text": [
      "First 50 letters of the review: \"but if you be look for my opinion of the apex dvd \", \n",
      "Sentiment Score: 2\n",
      "Predicted Sentiment Score: 2, \n",
      "Positivity of the review: positive\n"
     ]
    }
   ],
   "source": [
    "test_row = data[data.sentiment_total > 0].iloc[1]\n",
    "row_eval(test_row)"
   ]
  }
 ],
 "metadata": {
  "kernelspec": {
   "display_name": "Python 3 (ipykernel)",
   "language": "python",
   "name": "python3"
  },
  "language_info": {
   "codemirror_mode": {
    "name": "ipython",
    "version": 3
   },
   "file_extension": ".py",
   "mimetype": "text/x-python",
   "name": "python",
   "nbconvert_exporter": "python",
   "pygments_lexer": "ipython3",
   "version": "3.12.4"
  }
 },
 "nbformat": 4,
 "nbformat_minor": 5
}
