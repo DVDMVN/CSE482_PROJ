{
 "cells": [
  {
   "cell_type": "code",
   "execution_count": 183,
   "id": "e1331774-6276-4125-b10b-517a08f55dfc",
   "metadata": {},
   "outputs": [],
   "source": [
    "import pandas as pd\n",
    "import os\n",
    "import re\n",
    "import warnings\n",
    "import numpy as np\n",
    "import matplotlib.pyplot as plt\n",
    "import ast\n",
    "from textblob import TextBlob\n",
    "import contractions\n",
    "import nltk\n",
    "from nltk.tokenize import word_tokenize\n",
    "from nltk.stem import WordNetLemmatizer\n",
    "from nltk import pos_tag, word_tokenize\n",
    "from nltk.corpus import wordnet, stopwords, words\n",
    "from collections import Counter\n",
    "from tqdm import tqdm\n",
    "from sklearn.metrics import confusion_matrix, ConfusionMatrixDisplay, accuracy_score, mean_squared_error\n",
    "from sklearn.model_selection import train_test_split\n",
    "import torch\n",
    "from torch.utils.data import DataLoader, Dataset, TensorDataset\n",
    "# from spellchecker import SpellChecker\n",
    "from transformers import AutoTokenizer, AutoModelForSequenceClassification, BertModel, BertTokenizer, BertForSequenceClassification\n",
    "from transformers import AdamW, DistilBertForSequenceClassification, get_scheduler"
   ]
  },
  {
   "cell_type": "code",
   "execution_count": 127,
   "id": "094148a6-d694-4a7c-9b61-41f998019724",
   "metadata": {},
   "outputs": [],
   "source": [
    "#nltk.download('punkt')\n",
    "#nltk.download('averaged_perceptron_tagger')\n",
    "#nltk.download('wordnet')\n",
    "#nltk.download('omw-1.4')\n",
    "# nltk.download('stopwords')\n",
    "#nltk.download('words')"
   ]
  },
  {
   "cell_type": "markdown",
   "id": "d99e64e6-93f2-4983-b37c-2b6cfb159232",
   "metadata": {},
   "source": [
    "### Important Word Set"
   ]
  },
  {
   "cell_type": "code",
   "execution_count": 143,
   "id": "701a59ed-dfde-4d09-bdb8-caa040e4a064",
   "metadata": {},
   "outputs": [
    {
     "name": "stdout",
     "output_type": "stream",
     "text": [
      "['nt', 'ipod', 'software', 'zen', 'dvd', 'mp3', 'problems', 'features', 'players', '3', 'xtra', 'g3', 'pictures', 'christmas', '2', 'dvds', 'flaws', 'songs', 'using']\n"
     ]
    }
   ],
   "source": [
    "STOPWORDS = set(stopwords.words('english'))\n",
    "english_words = set(words.words())\n",
    "\n",
    "\n",
    "def preprocess_text(text):\n",
    "    text = contractions.fix(text)\n",
    "    text = re.sub(r'[^a-zA-Z0-9\\s]', '', text.lower())  \n",
    "    words = text.split()  \n",
    "    words = [word for word in words if word not in STOPWORDS] \n",
    "    return words\n",
    "\n",
    "def filter_non_standard_words(top_words):\n",
    "    non_standard_words = [word for word, _ in top_words if word not in english_words]\n",
    "    return non_standard_words\n",
    "\n",
    "def word_count_in_folder(folder_path, top_k=100):\n",
    "    all_words = []\n",
    "    \n",
    "    for file_name in os.listdir(folder_path):\n",
    "        if file_name.endswith('.csv'):\n",
    "            file_path = os.path.join(folder_path, file_name)\n",
    "            df = pd.read_csv(file_path)\n",
    "            \n",
    "            if 'title' in df.columns and 'sentence' in df.columns:\n",
    "                for _, row in df.iterrows():\n",
    "                    text = row['title'] + \" \" + row['sentence']\n",
    "                    words = preprocess_text(text)\n",
    "                    all_words.extend(words)  \n",
    "\n",
    "    word_counts = Counter(all_words)\n",
    "    top_words = word_counts.most_common(top_k)\n",
    "\n",
    "    non_standard_words = filter_non_standard_words(top_words)\n",
    "    \n",
    "    return non_standard_words\n",
    "\n",
    "folder_path = 'data' \n",
    "file_top_words = word_count_in_folder(folder_path, top_k=100) \n",
    "print(file_top_words)"
   ]
  },
  {
   "cell_type": "markdown",
   "id": "6c9eaa44-daeb-4921-ab7d-e1414af4fe4a",
   "metadata": {},
   "source": [
    "The reason we need to look at the important wordset is because this would let us assess if we should use TextBlob's `correct` function to fix the spellings within the text data. However, we have skipped correcting the spellings because these important words would also get translated and might introduce emotion into the data that did not exist before correction."
   ]
  },
  {
   "cell_type": "markdown",
   "id": "63d88b36-acfb-409f-949a-49a7e77f000a",
   "metadata": {},
   "source": [
    "### Lowercase text data"
   ]
  },
  {
   "cell_type": "code",
   "execution_count": 347,
   "id": "cede3f96-fa90-443f-bab4-efe51664b4a9",
   "metadata": {},
   "outputs": [],
   "source": [
    "def data_preprocessing(df):\n",
    "    \n",
    "    def selective_lowercase(text):\n",
    "        return ' '.join([word if word.isupper() else word.lower() for word in text.split()])\n",
    "    \n",
    "    df['title'] = df['title'].apply(selective_lowercase)\n",
    "    df['sentence'] = df['sentence'].apply(selective_lowercase)\n",
    "\n",
    "    def clean_text(text):\n",
    "        text = contractions.fix(text)\n",
    "        # blob = TextBlob(text)\n",
    "        # expanded_text = str(blob.correct())\n",
    "        text = re.sub(r'\\s+', ' ', text).strip()\n",
    "        text = re.sub(r'[^a-zA-Z0-9\\s!?-]', '', text)\n",
    "        \n",
    "        return text\n",
    "    \n",
    "    df['title'] = df['title'].apply(clean_text)\n",
    "    df['sentence'] = df['sentence'].apply(clean_text)\n",
    "\n",
    "    lemmatizer = WordNetLemmatizer()\n",
    "    \n",
    "    def get_wordnet_pos(nltk_pos):\n",
    "        if nltk_pos.startswith('J'):\n",
    "            return wordnet.ADJ\n",
    "        elif nltk_pos.startswith('V'):\n",
    "            return wordnet.VERB\n",
    "        elif nltk_pos.startswith('N'):\n",
    "            return wordnet.NOUN\n",
    "        elif nltk_pos.startswith('R'):\n",
    "            return wordnet.ADV\n",
    "        else:\n",
    "            return None\n",
    "\n",
    "    def conditional_lemmatize(text):\n",
    "        tokens = word_tokenize(text)\n",
    "        pos_tags = pos_tag(tokens)\n",
    "        lemmatized_text = []\n",
    "        \n",
    "        for token, pos in pos_tags:\n",
    "            wordnet_pos = get_wordnet_pos(pos)\n",
    "            if wordnet_pos in [wordnet.VERB, wordnet.NOUN]: \n",
    "                lemmatized_text.append(lemmatizer.lemmatize(token, pos=wordnet_pos))\n",
    "            else:\n",
    "                lemmatized_text.append(token)\n",
    "        return ' '.join(lemmatized_text)\n",
    "    \n",
    "    df['title'] = df['title'].apply(conditional_lemmatize)\n",
    "    df['sentence'] = df['sentence'].apply(conditional_lemmatize)\n",
    "    \n",
    "    tokenizer = AutoTokenizer.from_pretrained(\"distilbert-base-uncased-finetuned-sst-2-english\")\n",
    "\n",
    "    # NLTK Tokenizer\n",
    "    #df['title'] = df['title'].apply(word_tokenize)\n",
    "    #df['sentence'] = df['sentence'].apply(word_tokenize)\n",
    "    \n",
    "    def tokenize_text(title, sentence):\n",
    "        title_encoding = tokenizer(title, padding='max_length', truncation=True, return_tensors=\"pt\", max_length=128)\n",
    "        sentence_encoding = tokenizer(sentence, padding='max_length', truncation=True, return_tensors=\"pt\", max_length=128)\n",
    "        \n",
    "        return title_encoding['input_ids'].flatten().tolist(), title_encoding['attention_mask'].flatten().tolist(), \\\n",
    "               sentence_encoding['input_ids'].flatten().tolist(), sentence_encoding['attention_mask'].flatten().tolist()\n",
    "    \n",
    "    \n",
    "    df[['title_input_ids', 'title_attention_mask', 'sentence_input_ids', 'sentence_attention_mask']] = df.apply(\n",
    "        lambda row: tokenize_text(row['title'], row['sentence']), axis=1, result_type='expand'\n",
    "    )\n",
    "\n",
    "    return df"
   ]
  },
  {
   "cell_type": "code",
   "execution_count": 349,
   "id": "3658c501-cc91-4c5a-8cfc-d19dbcaa7d68",
   "metadata": {},
   "outputs": [],
   "source": [
    "data = {}\n",
    "for _ in os.listdir():\n",
    "    if _.endswith('.csv'):\n",
    "        df = pd.read_csv('data/'+_)\n",
    "        data[_] = data_preprocessing(df)\n",
    "        data[_].to_csv('processed_data/' + _.replace('.csv', '_updated.csv'))"
   ]
  },
  {
   "cell_type": "code",
   "execution_count": 189,
   "id": "1ebd4348-a1e2-4723-8918-d192e6e335fa",
   "metadata": {},
   "outputs": [],
   "source": [
    "\n",
    "\n",
    "def sign_based_accuracy(y_true, y_pred):\n",
    "    y_true = np.array(y_true)\n",
    "    y_pred = np.array(y_pred)\n",
    "    mask = np.array(y_true) != 0\n",
    "    y_true = np.array(y_true)[mask]\n",
    "    y_pred = np.array(y_pred)[mask]\n",
    "    \n",
    "    y_true_sign = (y_true >0).astype(int)\n",
    "    y_pred_sign = (y_pred >0).astype(int)\n",
    "    correct_signs = (y_true_sign == y_pred_sign).sum()\n",
    "    total = len(y_true_sign)\n",
    "    cm = confusion_matrix(y_true_sign, y_pred_sign)\n",
    "    disp = ConfusionMatrixDisplay(confusion_matrix=cm, display_labels=[0, 1])\n",
    "    disp.plot(cmap=plt.cm.Blues)\n",
    "    plt.show()\n",
    "    return (correct_signs / total) * 100\n",
    "    \n",
    "def model_dev(file_path):\n",
    "    data = pd.read_csv(file_path)\n",
    "    data_features = data[['sentence_input_ids', 'sentence_attention_mask']]\n",
    "    data_target = data['sentiment_total']\n",
    "    sentence_input_ids = torch.tensor([eval(x) for x in data_features['sentence_input_ids']])\n",
    "    sentence_attention_mask = torch.tensor([eval(x) for x in data_features['sentence_attention_mask']])\n",
    "    sentiment_score = torch.tensor(data_target.values).float()\n",
    "    input_ids = sentence_input_ids\n",
    "    attention_mask = sentence_attention_mask\n",
    "    X_train, X_val, mask_train, mask_val, y_train, y_val = train_test_split(\n",
    "        input_ids, attention_mask, sentiment_score, test_size=0.3, random_state=42\n",
    "    )\n",
    "    train_dataset = TensorDataset(X_train, mask_train, y_train)\n",
    "    val_dataset = TensorDataset(X_val, mask_val, y_val)\n",
    "    \n",
    "    train_dataloader = DataLoader(train_dataset, batch_size=16, shuffle=True)\n",
    "    val_dataloader = DataLoader(val_dataset, batch_size=16, shuffle=False)\n",
    "    with warnings.catch_warnings():\n",
    "        warnings.simplefilter(\"ignore\")\n",
    "        model = DistilBertForSequenceClassification.from_pretrained(\n",
    "            \"distilbert-base-uncased-finetuned-sst-2-english\", num_labels=1,\n",
    "            ignore_mismatched_sizes = True \n",
    "        )\n",
    "    with warnings.catch_warnings():\n",
    "        warnings.simplefilter(\"ignore\")\n",
    "        optimizer = AdamW(model.parameters(), lr=5e-5)\n",
    "        num_epochs = 3\n",
    "        num_training_steps = len(train_dataloader) * num_epochs\n",
    "        scheduler = get_scheduler(\"linear\", optimizer=optimizer, num_warmup_steps=0, num_training_steps=num_training_steps)\n",
    "\n",
    "    device = torch.device(\"cuda\") if torch.cuda.is_available() else torch.device(\"cpu\")\n",
    "    model.to(device)\n",
    "    \n",
    "    loss_fn = torch.nn.MSELoss() \n",
    "    \n",
    "    for epoch in range(num_epochs):\n",
    "        model.train()\n",
    "        for batch in train_dataloader:\n",
    "            input_ids, attention_mask, labels = [b.to(device) for b in batch]\n",
    "            outputs = model(input_ids=input_ids, attention_mask=attention_mask, labels=labels)\n",
    "            loss = outputs.loss\n",
    "            loss.backward()\n",
    "            optimizer.step()\n",
    "            scheduler.step()\n",
    "            optimizer.zero_grad()\n",
    "        print(f\"Epoch {epoch + 1} completed. Loss: {loss.item()}\")\n",
    "\n",
    "    model.eval()\n",
    "    all_preds, all_labels = [], []\n",
    "    \n",
    "    with torch.no_grad():\n",
    "        for batch in val_dataloader:\n",
    "            input_ids, attention_mask, labels = [b.to(device) for b in batch]\n",
    "            outputs = model(input_ids=input_ids, attention_mask=attention_mask)\n",
    "            predictions = outputs.logits.squeeze(-1)\n",
    "            all_preds.extend(predictions.cpu().numpy())\n",
    "            all_labels.extend(labels.cpu().numpy())\n",
    "\n",
    "    mse = mean_squared_error(all_labels, all_preds)\n",
    "    print(f\"Mean Squared Error: {mse}\")\n",
    "    accuracy = sign_based_accuracy(all_labels, all_preds)\n",
    "    print(f\"Accuracy: {accuracy}\")\n",
    "    return model, data    "
   ]
  },
  {
   "cell_type": "markdown",
   "id": "2b4923bb-61cf-4011-ad9f-47185227e5e7",
   "metadata": {},
   "source": [
    "### Sentiment Analysis of Apex DVD Player Reviews"
   ]
  },
  {
   "cell_type": "code",
   "execution_count": 191,
   "id": "02a78357-6285-472f-85c6-92ed6a967012",
   "metadata": {},
   "outputs": [],
   "source": [
    "file_path = \"processed_data/apex_ad2600_dvd_player_updated.csv\""
   ]
  },
  {
   "cell_type": "code",
   "execution_count": 193,
   "id": "39145006-e6b8-4bcd-8f31-e51b892681c6",
   "metadata": {},
   "outputs": [
    {
     "name": "stderr",
     "output_type": "stream",
     "text": [
      "Some weights of DistilBertForSequenceClassification were not initialized from the model checkpoint at distilbert-base-uncased-finetuned-sst-2-english and are newly initialized because the shapes did not match:\n",
      "- classifier.bias: found shape torch.Size([2]) in the checkpoint and torch.Size([1]) in the model instantiated\n",
      "- classifier.weight: found shape torch.Size([2, 768]) in the checkpoint and torch.Size([1, 768]) in the model instantiated\n",
      "You should probably TRAIN this model on a down-stream task to be able to use it for predictions and inference.\n"
     ]
    },
    {
     "name": "stdout",
     "output_type": "stream",
     "text": [
      "Epoch 1 completed. Loss: 0.760718822479248\n",
      "Epoch 2 completed. Loss: 2.0754992961883545\n",
      "Epoch 3 completed. Loss: 1.4480443000793457\n",
      "Mean Squared Error: 2.2999744415283203\n"
     ]
    },
    {
     "data": {
      "image/png": "[encoded data removed]",
      "text/plain": [
       "<Figure size 640x480 with 2 Axes>"
      ]
     },
     "metadata": {},
     "output_type": "display_data"
    },
    {
     "name": "stdout",
     "output_type": "stream",
     "text": [
      "Accuracy: 93.80530973451327\n"
     ]
    }
   ],
   "source": [
    "model, data = model_dev(file_path)"
   ]
  },
  {
   "cell_type": "code",
   "execution_count": 194,
   "id": "1b183033-2abf-408f-b799-44456e3ec027",
   "metadata": {},
   "outputs": [],
   "source": [
    "def row_eval(test_row, model):\n",
    "    test_inputs = torch.tensor(eval(test_row['sentence_input_ids'])).unsqueeze(0)\n",
    "    test_attention = torch.tensor(eval(test_row['sentence_attention_mask'])).unsqueeze(0)\n",
    "    \n",
    "    model.eval()\n",
    "    \n",
    "    with torch.no_grad():\n",
    "        outputs = model(input_ids=test_inputs, attention_mask=test_attention)\n",
    "        logits = outputs.logits\n",
    "    \n",
    "    predicted_sentiment = (logits > 0).int().item()\n",
    "    \n",
    "    label_map = {0:'negative', 1:'positive'}\n",
    "    \n",
    "    print (f\"First 50 letters of the review: \\\"{test_row['sentence'][:50]}\\\", \\nSentiment Score: {test_row['sentiment_total']}\")\n",
    "    print (f\"Predicted Sentiment Score: {int(logits[0][0])}, \\nPositivity of the review: {label_map[predicted_sentiment]}\")"
   ]
  },
  {
   "cell_type": "code",
   "execution_count": 198,
   "id": "873c44b8-a0e2-4a24-9309-901fc4730ea7",
   "metadata": {},
   "outputs": [
    {
     "name": "stdout",
     "output_type": "stream",
     "text": [
      "First 50 letters of the review: \"weakness be minor the feel and layout of the remot\", \n",
      "Sentiment Score: -2\n",
      "Predicted Sentiment Score: -2, \n",
      "Positivity of the review: negative\n"
     ]
    }
   ],
   "source": [
    "test_row = data[data.sentiment_total < 0].iloc[0]\n",
    "row_eval(test_row, model)"
   ]
  },
  {
   "cell_type": "code",
   "execution_count": 200,
   "id": "0a4f2957-e70c-4164-bfc3-19e6f3754794",
   "metadata": {},
   "outputs": [
    {
     "name": "stdout",
     "output_type": "stream",
     "text": [
      "First 50 letters of the review: \"but if you be look for my opinion of the apex dvd \", \n",
      "Sentiment Score: 2\n",
      "Predicted Sentiment Score: 1, \n",
      "Positivity of the review: positive\n"
     ]
    }
   ],
   "source": [
    "test_row = data[data.sentiment_total > 0].iloc[1]\n",
    "row_eval(test_row, model)"
   ]
  },
  {
   "cell_type": "markdown",
   "id": "cec64f9b-ebb2-49a6-a36f-c5b41b8e17b7",
   "metadata": {},
   "source": [
    "### Sentiment Analysis of Canon G3 Reviews"
   ]
  },
  {
   "cell_type": "code",
   "execution_count": 202,
   "id": "566b8dfd-9a48-4528-b613-859bcdc64d45",
   "metadata": {},
   "outputs": [],
   "source": [
    "file_path = 'processed_data/canon_g3_updated.csv'"
   ]
  },
  {
   "cell_type": "code",
   "execution_count": 204,
   "id": "911d8c95-6d7e-4781-bf13-18d26eb9fc45",
   "metadata": {},
   "outputs": [
    {
     "name": "stderr",
     "output_type": "stream",
     "text": [
      "Some weights of DistilBertForSequenceClassification were not initialized from the model checkpoint at distilbert-base-uncased-finetuned-sst-2-english and are newly initialized because the shapes did not match:\n",
      "- classifier.bias: found shape torch.Size([2]) in the checkpoint and torch.Size([1]) in the model instantiated\n",
      "- classifier.weight: found shape torch.Size([2, 768]) in the checkpoint and torch.Size([1, 768]) in the model instantiated\n",
      "You should probably TRAIN this model on a down-stream task to be able to use it for predictions and inference.\n"
     ]
    },
    {
     "name": "stdout",
     "output_type": "stream",
     "text": [
      "Epoch 1 completed. Loss: 0.0031805927865207195\n",
      "Epoch 2 completed. Loss: 4.068337917327881\n",
      "Epoch 3 completed. Loss: 0.9526017308235168\n",
      "Mean Squared Error: 1.966522216796875\n"
     ]
    },
    {
     "data": {
      "image/png": "[encoded data removed]",
      "text/plain": [
       "<Figure size 640x480 with 2 Axes>"
      ]
     },
     "metadata": {},
     "output_type": "display_data"
    },
    {
     "name": "stdout",
     "output_type": "stream",
     "text": [
      "Accuracy: 87.5\n"
     ]
    }
   ],
   "source": [
    "model, data = model_dev(file_path)"
   ]
  },
  {
   "cell_type": "code",
   "execution_count": 205,
   "id": "2a02485a-4244-40ac-99b6-1bee9277cc5d",
   "metadata": {},
   "outputs": [
    {
     "name": "stdout",
     "output_type": "stream",
     "text": [
      "First 50 letters of the review: \"main dial be not backlit\", \n",
      "Sentiment Score: -1\n",
      "Predicted Sentiment Score: 0, \n",
      "Positivity of the review: negative\n"
     ]
    }
   ],
   "source": [
    "test_row = data[data.sentiment_total < 0].iloc[0]\n",
    "row_eval(test_row, model)"
   ]
  },
  {
   "cell_type": "code",
   "execution_count": 206,
   "id": "0889a51c-bac3-4e59-bd1f-9dfff95fc9a4",
   "metadata": {},
   "outputs": [
    {
     "name": "stdout",
     "output_type": "stream",
     "text": [
      "First 50 letters of the review: \"the camera be very easy to use in fact on a recent\", \n",
      "Sentiment Score: 2\n",
      "Predicted Sentiment Score: 1, \n",
      "Positivity of the review: positive\n"
     ]
    }
   ],
   "source": [
    "test_row = data[data.sentiment_total > 0].iloc[1]\n",
    "row_eval(test_row, model)"
   ]
  },
  {
   "cell_type": "markdown",
   "id": "f4b05295-053c-4f3a-81c9-24469f07a40a",
   "metadata": {},
   "source": [
    "### Sentiment Analysis of Nikon Coolpix Reviews"
   ]
  },
  {
   "cell_type": "code",
   "execution_count": 208,
   "id": "ec10bfbd-6ed9-406e-b2f4-79219aa3aaf7",
   "metadata": {},
   "outputs": [],
   "source": [
    "file_path = 'processed_data/nikon_coolpix_4300_updated.csv'"
   ]
  },
  {
   "cell_type": "code",
   "execution_count": 209,
   "id": "3ca2e511-6815-4547-a4ef-bf8b25464c4b",
   "metadata": {},
   "outputs": [
    {
     "name": "stderr",
     "output_type": "stream",
     "text": [
      "Some weights of DistilBertForSequenceClassification were not initialized from the model checkpoint at distilbert-base-uncased-finetuned-sst-2-english and are newly initialized because the shapes did not match:\n",
      "- classifier.bias: found shape torch.Size([2]) in the checkpoint and torch.Size([1]) in the model instantiated\n",
      "- classifier.weight: found shape torch.Size([2, 768]) in the checkpoint and torch.Size([1, 768]) in the model instantiated\n",
      "You should probably TRAIN this model on a down-stream task to be able to use it for predictions and inference.\n"
     ]
    },
    {
     "name": "stdout",
     "output_type": "stream",
     "text": [
      "Epoch 1 completed. Loss: 9.379646301269531\n",
      "Epoch 2 completed. Loss: 3.281527042388916\n",
      "Epoch 3 completed. Loss: 0.0013011517003178596\n",
      "Mean Squared Error: 2.298022747039795\n"
     ]
    },
    {
     "data": {
      "image/png": "[encoded data removed]",
      "text/plain": [
       "<Figure size 640x480 with 2 Axes>"
      ]
     },
     "metadata": {},
     "output_type": "display_data"
    },
    {
     "name": "stdout",
     "output_type": "stream",
     "text": [
      "Accuracy: 77.08333333333334\n"
     ]
    }
   ],
   "source": [
    "model, data = model_dev(file_path)"
   ]
  },
  {
   "cell_type": "code",
   "execution_count": 234,
   "id": "8b250aac-e8dd-4089-a379-853a72259b26",
   "metadata": {},
   "outputs": [
    {
     "name": "stdout",
     "output_type": "stream",
     "text": [
      "First 50 letters of the review: \"1 picture wo nt transfer to pc directly from the c\", \n",
      "Sentiment Score: -2\n",
      "Predicted Sentiment Score: 0, \n",
      "Positivity of the review: negative\n"
     ]
    }
   ],
   "source": [
    "test_row = data[data.sentiment_total < 0].iloc[0]\n",
    "row_eval(test_row, model)"
   ]
  },
  {
   "cell_type": "code",
   "execution_count": 236,
   "id": "d17f4159-4e1e-45d9-99e9-943beb8c4f00",
   "metadata": {},
   "outputs": [
    {
     "name": "stdout",
     "output_type": "stream",
     "text": [
      "First 50 letters of the review: \"it be small enough to fit easily in a coat pocket \", \n",
      "Sentiment Score: 2\n",
      "Predicted Sentiment Score: 1, \n",
      "Positivity of the review: positive\n"
     ]
    }
   ],
   "source": [
    "test_row = data[data.sentiment_total > 0].iloc[2]\n",
    "row_eval(test_row, model)"
   ]
  },
  {
   "cell_type": "markdown",
   "id": "f8bcabda-7912-4e90-87c3-ab78b1857777",
   "metadata": {},
   "source": [
    "### Sentiment Analysis of Nokia 6610 Reviews"
   ]
  },
  {
   "cell_type": "code",
   "execution_count": 238,
   "id": "36e2e1c5-59d0-44da-a323-7ad277f0a069",
   "metadata": {},
   "outputs": [
    {
     "name": "stderr",
     "output_type": "stream",
     "text": [
      "Some weights of DistilBertForSequenceClassification were not initialized from the model checkpoint at distilbert-base-uncased-finetuned-sst-2-english and are newly initialized because the shapes did not match:\n",
      "- classifier.bias: found shape torch.Size([2]) in the checkpoint and torch.Size([1]) in the model instantiated\n",
      "- classifier.weight: found shape torch.Size([2, 768]) in the checkpoint and torch.Size([1, 768]) in the model instantiated\n",
      "You should probably TRAIN this model on a down-stream task to be able to use it for predictions and inference.\n"
     ]
    },
    {
     "name": "stdout",
     "output_type": "stream",
     "text": [
      "Epoch 1 completed. Loss: 2.182565450668335\n",
      "Epoch 2 completed. Loss: 0.32599201798439026\n",
      "Epoch 3 completed. Loss: 1.3247507810592651\n",
      "Mean Squared Error: 1.7081842422485352\n"
     ]
    },
    {
     "data": {
      "image/png": "[encoded data removed]",
      "text/plain": [
       "<Figure size 640x480 with 2 Axes>"
      ]
     },
     "metadata": {},
     "output_type": "display_data"
    },
    {
     "name": "stdout",
     "output_type": "stream",
     "text": [
      "Accuracy: 92.3076923076923\n"
     ]
    }
   ],
   "source": [
    "file_path = 'processed_data/nokia_6610_updated.csv'\n",
    "model, data = model_dev(file_path)"
   ]
  },
  {
   "cell_type": "code",
   "execution_count": 239,
   "id": "9c310020-022a-4bd5-9ec1-98c6480a8e0e",
   "metadata": {},
   "outputs": [
    {
     "name": "stdout",
     "output_type": "stream",
     "text": [
      "First 50 letters of the review: \"after several year of torture in the hand of att c\", \n",
      "Sentiment Score: -2\n",
      "Predicted Sentiment Score: 0, \n",
      "Positivity of the review: negative\n",
      "First 50 letters of the review: \"i have have the phone for 1 week the signal qualit\", \n",
      "Sentiment Score: 3\n",
      "Predicted Sentiment Score: 2, \n",
      "Positivity of the review: positive\n"
     ]
    }
   ],
   "source": [
    "test_row = data[data.sentiment_total < 0].iloc[0]\n",
    "row_eval(test_row, model)\n",
    "\n",
    "test_row = data[data.sentiment_total > 0].iloc[1]\n",
    "row_eval(test_row, model)"
   ]
  },
  {
   "cell_type": "markdown",
   "id": "9a9a2cea-fee9-4d94-b129-2e9aac65455d",
   "metadata": {},
   "source": [
    "### Sentiment Analysis of Nomad Jukebox Reviews"
   ]
  },
  {
   "cell_type": "code",
   "execution_count": 242,
   "id": "8471ec73-70f0-43bd-96df-dc49bccff5af",
   "metadata": {},
   "outputs": [
    {
     "name": "stderr",
     "output_type": "stream",
     "text": [
      "Some weights of DistilBertForSequenceClassification were not initialized from the model checkpoint at distilbert-base-uncased-finetuned-sst-2-english and are newly initialized because the shapes did not match:\n",
      "- classifier.bias: found shape torch.Size([2]) in the checkpoint and torch.Size([1]) in the model instantiated\n",
      "- classifier.weight: found shape torch.Size([2, 768]) in the checkpoint and torch.Size([1, 768]) in the model instantiated\n",
      "You should probably TRAIN this model on a down-stream task to be able to use it for predictions and inference.\n"
     ]
    },
    {
     "name": "stdout",
     "output_type": "stream",
     "text": [
      "Epoch 1 completed. Loss: 1.3164868354797363\n",
      "Epoch 2 completed. Loss: 0.6070843935012817\n",
      "Epoch 3 completed. Loss: 0.42591848969459534\n",
      "Mean Squared Error: 1.866376280784607\n"
     ]
    },
    {
     "data": {
      "image/png": "[encoded data removed]",
      "text/plain": [
       "<Figure size 640x480 with 2 Axes>"
      ]
     },
     "metadata": {},
     "output_type": "display_data"
    },
    {
     "name": "stdout",
     "output_type": "stream",
     "text": [
      "Accuracy: 86.53846153846155\n"
     ]
    }
   ],
   "source": [
    "file_path = 'processed_data/nomad_jukebox_zen_xtra_updated.csv'\n",
    "model, data = model_dev(file_path)"
   ]
  },
  {
   "cell_type": "code",
   "execution_count": 243,
   "id": "62ca7eaf-b7b1-4ccb-beb5-f25c43bc45e7",
   "metadata": {},
   "outputs": [
    {
     "name": "stdout",
     "output_type": "stream",
     "text": [
      "First 50 letters of the review: \"only 1 problem no accessory yet\", \n",
      "Sentiment Score: -1\n",
      "Predicted Sentiment Score: 0, \n",
      "Positivity of the review: negative\n",
      "First 50 letters of the review: \"it be the most bang-for-the-buck out there\", \n",
      "Sentiment Score: 3\n",
      "Predicted Sentiment Score: 3, \n",
      "Positivity of the review: positive\n"
     ]
    }
   ],
   "source": [
    "test_row = data[data.sentiment_total < 0].iloc[0]\n",
    "row_eval(test_row, model)\n",
    "\n",
    "test_row = data[data.sentiment_total > 0].iloc[1]\n",
    "row_eval(test_row, model)"
   ]
  }
 ],
 "metadata": {
  "kernelspec": {
   "display_name": "Python 3 (ipykernel)",
   "language": "python",
   "name": "python3"
  },
  "language_info": {
   "codemirror_mode": {
    "name": "ipython",
    "version": 3
   },
   "file_extension": ".py",
   "mimetype": "text/x-python",
   "name": "python",
   "nbconvert_exporter": "python",
   "pygments_lexer": "ipython3",
   "version": "3.12.4"
  }
 },
 "nbformat": 4,
 "nbformat_minor": 5
}
