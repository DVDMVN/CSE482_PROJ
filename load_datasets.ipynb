{
 "cells": [
  {
   "cell_type": "markdown",
   "metadata": {},
   "source": [
    "# About the dataset:\n",
    "\n",
    "Sourced from [cs.uic.edu](https://www.cs.uic.edu/~liub/FBS/sentiment-analysis.html)\n",
    "- Currently analyzing [Customer Review Datasets (5 products)](http://www.cs.uic.edu/~liub/FBS/CustomerReviewData.zip)\n",
    "- Contains reviews for 5 products:\n",
    "\t1. digital camera: Canon G3\n",
    "\t2. digital camera: Nikon coolpix 4300\n",
    "\t3. celluar phone:  Nokia 6610\n",
    "\t4. mp3 player:     Creative Labs Nomad Jukebox Zen Xtra 40GB\n",
    "\t5. dvd player:     Apex AD2600 Progressive-scan DVD player"
   ]
  },
  {
   "cell_type": "markdown",
   "metadata": {},
   "source": [
    "# Preprocessing"
   ]
  },
  {
   "cell_type": "markdown",
   "metadata": {},
   "source": [
    "## Parsing raw text files"
   ]
  },
  {
   "cell_type": "markdown",
   "metadata": {},
   "source": [
    "Note:\n",
    "- One sentence within text file does not have a ## to split on, mistakenly only have one pound sign #. Found on line number: 485"
   ]
  },
  {
   "cell_type": "code",
   "execution_count": 39,
   "metadata": {},
   "outputs": [
    {
     "name": "stdout",
     "output_type": "stream",
     "text": [
      "{'output': -3}\n",
      "850\n"
     ]
    }
   ],
   "source": [
    "import re\n",
    "import pandas as pd\n",
    "\n",
    "raw_container_path = 'raw_data/customer review data/'\n",
    "\n",
    "file_name_dict = {\n",
    "    'canon_g3': \"Canon G3.txt\",\n",
    "    'nikon_coolpix_4300': \"Nikon coolpix 4300.txt\",\n",
    "    'nokia_6610': \"Nokia 6610.txt\",\n",
    "    'nomad_jukebox_zen_xtra': \"Creative Labs Nomad Jukebox Zen Xtra 40GB.txt\",\n",
    "    'apex_ad2600_dvd_player': \"Apex AD2600 Progressive-scan DVD player.txt\",\n",
    "}\n",
    "\n",
    "# Working on the parsing of the annotations part: Testing out how I can parse this annotations section to extract information\n",
    "def parse_annotations(annotations_part):\n",
    "    feature_sentiment_dict = {}\n",
    "    feature_sentiment_matches =  re.findall(r'(\\w+)\\[(\\+|-)(\\d)\\]', annotations_part) # need to rewrite this regex\n",
    "    for match in feature_sentiment_matches:\n",
    "        feature_name = match[0]\n",
    "        if match[1] == '+':\n",
    "            sentiment = int(match[2])\n",
    "        elif match[1] == '-':\n",
    "            sentiment = int(match[2]) * -1\n",
    "        else:\n",
    "            raise Exception(\"Invalid sentiment: \" + match[1])\n",
    "        feature_sentiment_dict[feature_name] = sentiment\n",
    "    return feature_sentiment_dict\n",
    "\n",
    "print(parse_annotations(\"video output[-3]\"))\n",
    "\n",
    "def parse_reviews(file_content):\n",
    "    reviews = re.split(r'\\[t\\]', file_content) # Split the content by the review title tag [t]\n",
    "    reviews = reviews[1:] # Skip header by skipping to the first [t] tag\n",
    "    # display(reviews[0])\n",
    "    # display(reviews[1])\n",
    "\n",
    "    data = []\n",
    "    for review in reviews:\n",
    "        # 1. Remove leading and trailing whitespace from review\n",
    "        # 2. Split into a list of individual lines by '\\n'\n",
    "        # 3. Remove leading and trailing whitespace from individual line\n",
    "        lines = [line.strip() for line in review.strip().split(sep = '\\n')]\n",
    "        \n",
    "        title = lines[0] # First line of each review is the review title\n",
    "        sentences = lines[1:] # The rest are sentences\n",
    "        \n",
    "        for sentence in sentences:\n",
    "            # Split annotations and sentence text\n",
    "            # The annotations are before '##', the sentence text is after\n",
    "            if '##' in sentence:\n",
    "                annotations_part, sentence_text = sentence.split(sep = '##')\n",
    "            elif '#' in sentence:\n",
    "                annotations_part, sentence_text = sentence.split(sep = '#')\n",
    "            else:\n",
    "                raise Exception(\"Sentence does not contain a pound sign: \" + sentence)\n",
    "\n",
    "            # Append the data\n",
    "            data.append({\n",
    "                'title': title,\n",
    "                'sentence': sentence_text.strip(),\n",
    "                'annotations': annotations_part\n",
    "            })\n",
    "    \n",
    "    # Create DataFrame\n",
    "    df = pd.DataFrame(data)\n",
    "    return df\n",
    "\n",
    "# Starting with the apex:\n",
    "with open(raw_container_path + file_name_dict['apex_ad2600_dvd_player'], 'r') as f:\n",
    "    content = f.read()\n",
    "    # print(content)\n",
    "with open(raw_container_path + file_name_dict['apex_ad2600_dvd_player'], 'r') as f:\n",
    "    print(len(f.readlines()))\n",
    "\n",
    "df = parse_reviews(content)"
   ]
  },
  {
   "cell_type": "code",
   "execution_count": 40,
   "metadata": {},
   "outputs": [
    {
     "name": "stdout",
     "output_type": "stream",
     "text": [
      "Found target sentence on line 485\n"
     ]
    }
   ],
   "source": [
    "target_sentence = \"run[+3], dvd media[+2]#apex ad-2600 runs all the dvd media including dvd + r/rw and dvd-r / rw ( unlike sony or panasonic - one supports only + r/rw and another supports - r/rw ) . \"\n",
    "\n",
    "with open(raw_container_path + file_name_dict['apex_ad2600_dvd_player'], 'r') as f:\n",
    "    for line_num, line in enumerate(f, start=1):\n",
    "        # Check if the target sentence is in the current line\n",
    "        if target_sentence in line:\n",
    "            print(f\"Found target sentence on line {line_num}\")\n",
    "            break\n",
    "    else:\n",
    "        print(\"Target sentence not found in the file.\")"
   ]
  },
  {
   "cell_type": "code",
   "execution_count": 41,
   "metadata": {},
   "outputs": [
    {
     "data": {
      "text/plain": [
       "740"
      ]
     },
     "execution_count": 41,
     "metadata": {},
     "output_type": "execute_result"
    }
   ],
   "source": [
    "df.__len__()"
   ]
  }
 ],
 "metadata": {
  "kernelspec": {
   "display_name": "Python 3",
   "language": "python",
   "name": "python3"
  },
  "language_info": {
   "codemirror_mode": {
    "name": "ipython",
    "version": 3
   },
   "file_extension": ".py",
   "mimetype": "text/x-python",
   "name": "python",
   "nbconvert_exporter": "python",
   "pygments_lexer": "ipython3",
   "version": "3.12.3"
  }
 },
 "nbformat": 4,
 "nbformat_minor": 2
}
