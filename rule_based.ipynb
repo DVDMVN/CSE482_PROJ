{
 "cells": [
  {
   "cell_type": "markdown",
   "metadata": {},
   "source": [
    "# Loading"
   ]
  },
  {
   "cell_type": "code",
   "execution_count": 2,
   "metadata": {},
   "outputs": [
    {
     "name": "stdout",
     "output_type": "stream",
     "text": [
      "returning\n",
      "sentiment_category\n",
      "positive    2000\n",
      "negative    2000\n",
      "neutral     2000\n",
      "Name: count, dtype: int64\n"
     ]
    }
   ],
   "source": [
    "from utils import load_master_df, balance_master_df_classes\n",
    "\n",
    "master_df = load_master_df()\n",
    "master_df = balance_master_df_classes(master_df)"
   ]
  },
  {
   "cell_type": "markdown",
   "metadata": {},
   "source": [
    "# Get VADAR sentiments"
   ]
  },
  {
   "cell_type": "code",
   "execution_count": 5,
   "metadata": {},
   "outputs": [],
   "source": [
    "import nltk\n",
    "from nltk.sentiment.vader import SentimentIntensityAnalyzer\n",
    "# nltk.download('vader_lexicon')  # Uncomment this if you haven't downloaded the VADER lexicon.\n",
    "\n",
    "sia = SentimentIntensityAnalyzer()\n",
    "\n",
    "def vader_category(sentence: str) -> str:\n",
    "    scores = sia.polarity_scores(sentence)\n",
    "    if scores['compound'] >= 0.05:\n",
    "        return 'positive'\n",
    "    elif scores['compound'] <= -0.05:\n",
    "        return 'negative'\n",
    "    else:\n",
    "        return 'neutral'\n",
    "\n",
    "master_df['vader_category'] = master_df['sentence'].apply(vader_category)"
   ]
  },
  {
   "cell_type": "code",
   "execution_count": 7,
   "metadata": {},
   "outputs": [
    {
     "name": "stdout",
     "output_type": "stream",
     "text": [
      "VADER vs Ground Truth Sentiment Category accuracy: 0.5261666666666667\n",
      "Classification Report:\n",
      "              precision    recall  f1-score   support\n",
      "\n",
      "    negative       0.63      0.37      0.46      2000\n",
      "     neutral       0.49      0.43      0.46      2000\n",
      "    positive       0.51      0.79      0.62      2000\n",
      "\n",
      "    accuracy                           0.53      6000\n",
      "   macro avg       0.54      0.53      0.51      6000\n",
      "weighted avg       0.54      0.53      0.51      6000\n",
      "\n",
      "Confusion Matrix:\n",
      "[[ 731  584  685]\n",
      " [ 315  856  829]\n",
      " [ 109  321 1570]]\n"
     ]
    }
   ],
   "source": [
    "from sklearn.metrics import accuracy_score, classification_report, confusion_matrix\n",
    "\n",
    "accuracy = accuracy_score(master_df['sentiment_category'], master_df['vader_category'])\n",
    "print(\"VADER vs Ground Truth Sentiment Category accuracy:\", accuracy)\n",
    "\n",
    "print(\"Classification Report:\")\n",
    "print(classification_report(master_df['sentiment_category'], master_df['vader_category']))\n",
    "\n",
    "print(\"Confusion Matrix:\")\n",
    "print(confusion_matrix(master_df['sentiment_category'], master_df['vader_category']))"
   ]
  }
 ],
 "metadata": {
  "kernelspec": {
   "display_name": "Python 3",
   "language": "python",
   "name": "python3"
  },
  "language_info": {
   "codemirror_mode": {
    "name": "ipython",
    "version": 3
   },
   "file_extension": ".py",
   "mimetype": "text/x-python",
   "name": "python",
   "nbconvert_exporter": "python",
   "pygments_lexer": "ipython3",
   "version": "3.12.3"
  }
 },
 "nbformat": 4,
 "nbformat_minor": 2
}
